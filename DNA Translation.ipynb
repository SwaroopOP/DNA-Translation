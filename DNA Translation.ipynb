{
 "cells": [
  {
   "cell_type": "markdown",
   "id": "41234958",
   "metadata": {},
   "source": [
    "   #  **DNA Translation**"
   ]
  },
  {
   "cell_type": "markdown",
   "id": "675a5ae1",
   "metadata": {},
   "source": [
    "In this Project we will download DNA data, import it in Python, translate DNA sequence and compare the translation."
   ]
  },
  {
   "cell_type": "code",
   "execution_count": 1,
   "id": "e1248a23",
   "metadata": {},
   "outputs": [
    {
     "data": {
      "text/plain": [
       "'C:\\\\Users\\\\admin'"
      ]
     },
     "execution_count": 1,
     "metadata": {},
     "output_type": "execute_result"
    }
   ],
   "source": [
    "pwd"
   ]
  },
  {
   "cell_type": "code",
   "execution_count": 2,
   "id": "98a93095",
   "metadata": {},
   "outputs": [
    {
     "name": "stdout",
     "output_type": "stream",
     "text": [
      "C:\\Users\\admin\\desktop\n"
     ]
    }
   ],
   "source": [
    "cd desktop"
   ]
  },
  {
   "cell_type": "code",
   "execution_count": 4,
   "id": "bba2f080",
   "metadata": {},
   "outputs": [],
   "source": [
    "inputfile = 'dna.txt'\n",
    "f = open(inputfile, 'r')\n",
    "seq = f.read()"
   ]
  },
  {
   "cell_type": "code",
   "execution_count": 5,
   "id": "ae33a59e",
   "metadata": {},
   "outputs": [
    {
     "data": {
      "text/plain": [
       "'GGTCAGAAAAAGCCCTCTCCATGTCTACTCACGATACATCCCTGAAAACCACTGAGGAAGTGGCTTTTCA\\nGATCATCTTGCTTTGCCAGTTTGGGGTTGGGACTTTTGCCAATGTATTTCTCTTTGTCTATAATTTCTCT\\nCCAATCTCGACTGGTTCTAAACAGAGGCCCAGACAAGTGATTTTAAGACACATGGCTGTGGCCAATGCCT\\nTAACTCTCTTCCTCACTATATTTCCAAACAACATGATGACTTTTGCTCCAATTATTCCTCAAACTGACCT\\nCAAATGTAAATTAGAATTCTTCACTCGCCTCGTGGCAAGAAGCACAAACTTGTGTTCAACTTGTGTTCTG\\nAGTATCCATCAGTTTGTCACACTTGTTCCTGTTAATTCAGGTAAAGGAATACTCAGAGCAAGTGTCACAA\\nACATGGCAAGTTATTCTTGTTACAGTTGTTGGTTCTTCAGTGTCTTAAATAACATCTACATTCCAATTAA\\nGGTCACTGGTCCACAGTTAACAGACAATAACAATAACTCTAAAAGCAAGTTGTTCTGTTCCACTTCTGAT\\nTTCAGTGTAGGCATTGTCTTCTTGAGGTTTGCCCATGATGCCACATTCATGAGCATCATGGTCTGGACCA\\nGTGTCTCCATGGTACTTCTCCTCCATAGACATTGTCAGAGAATGCAGTACATATTCACTCTCAATCAGGA\\nCCCCAGGGGCCAAGCAGAGACCACAGCAACCCATACTATCCTGATGCTGGTAGTCACATTTGTTGGCTTT\\nTATCTTCTAAGTCTTATTTGTATCATCTTTTACACCTATTTTATATATTCTCATCATTCCCTGAGGCATT\\nGCAATGACATTTTGGTTTCGGGTTTCCCTACAATTTCTCCTTTACTGTTGACCTTCAGAGACCCTAAGGG\\nTCCTTGTTCTGTGTTCTTCAACTGTTGAAAGCCAGAGTCACTAAAAATGCCAAACACAGAAGACAGCTTT\\nGCTAATACCATTAAATACTTTATTCCATAAATATGTTTTTAAAAGCTTGTATGAACAAGGTATGGTGCTC\\nACTGCTATACTTATAAAAGAGTAAGGTTATAATCACTTGTTGATATGAAAAGATTTCTGGTTGGAATCTG\\nATTGAAACAGTGAGTTATTCACCACCCTCCATTCTCT'"
      ]
     },
     "execution_count": 5,
     "metadata": {},
     "output_type": "execute_result"
    }
   ],
   "source": [
    "seq"
   ]
  },
  {
   "cell_type": "markdown",
   "id": "1cfc5e2b",
   "metadata": {},
   "source": [
    "As  we can see backslash n appears in the text which is unwanted. This is a special character that affects the way the string gets printed.\n",
    "To remove them we will use the replace method."
   ]
  },
  {
   "cell_type": "code",
   "execution_count": 6,
   "id": "fc473a49",
   "metadata": {},
   "outputs": [
    {
     "data": {
      "text/plain": [
       "'GGTCAGAAAAAGCCCTCTCCATGTCTACTCACGATACATCCCTGAAAACCACTGAGGAAGTGGCTTTTCAGATCATCTTGCTTTGCCAGTTTGGGGTTGGGACTTTTGCCAATGTATTTCTCTTTGTCTATAATTTCTCTCCAATCTCGACTGGTTCTAAACAGAGGCCCAGACAAGTGATTTTAAGACACATGGCTGTGGCCAATGCCTTAACTCTCTTCCTCACTATATTTCCAAACAACATGATGACTTTTGCTCCAATTATTCCTCAAACTGACCTCAAATGTAAATTAGAATTCTTCACTCGCCTCGTGGCAAGAAGCACAAACTTGTGTTCAACTTGTGTTCTGAGTATCCATCAGTTTGTCACACTTGTTCCTGTTAATTCAGGTAAAGGAATACTCAGAGCAAGTGTCACAAACATGGCAAGTTATTCTTGTTACAGTTGTTGGTTCTTCAGTGTCTTAAATAACATCTACATTCCAATTAAGGTCACTGGTCCACAGTTAACAGACAATAACAATAACTCTAAAAGCAAGTTGTTCTGTTCCACTTCTGATTTCAGTGTAGGCATTGTCTTCTTGAGGTTTGCCCATGATGCCACATTCATGAGCATCATGGTCTGGACCAGTGTCTCCATGGTACTTCTCCTCCATAGACATTGTCAGAGAATGCAGTACATATTCACTCTCAATCAGGACCCCAGGGGCCAAGCAGAGACCACAGCAACCCATACTATCCTGATGCTGGTAGTCACATTTGTTGGCTTTTATCTTCTAAGTCTTATTTGTATCATCTTTTACACCTATTTTATATATTCTCATCATTCCCTGAGGCATTGCAATGACATTTTGGTTTCGGGTTTCCCTACAATTTCTCCTTTACTGTTGACCTTCAGAGACCCTAAGGGTCCTTGTTCTGTGTTCTTCAACTGTTGAAAGCCAGAGTCACTAAAAATGCCAAACACAGAAGACAGCTTTGCTAATACCATTAAATACTTTATTCCATAAATATGTTTTTAAAAGCTTGTATGAACAAGGTATGGTGCTCACTGCTATACTTATAAAAGAGTAAGGTTATAATCACTTGTTGATATGAAAAGATTTCTGGTTGGAATCTGATTGAAACAGTGAGTTATTCACCACCCTCCATTCTCT'"
      ]
     },
     "execution_count": 6,
     "metadata": {},
     "output_type": "execute_result"
    }
   ],
   "source": [
    "#replace characters in strings\n",
    "\n",
    "seq.replace('\\n', '')"
   ]
  },
  {
   "cell_type": "markdown",
   "id": "df4a3e9f",
   "metadata": {},
   "source": [
    "As string is a immutable object. The method will return a new string\n",
    "So we will reassign it to the same variable"
   ]
  },
  {
   "cell_type": "code",
   "execution_count": 7,
   "id": "e5bdda4e",
   "metadata": {},
   "outputs": [],
   "source": [
    "#Transfering the data to same variable\n",
    "seq = seq.replace('\\n', '')"
   ]
  },
  {
   "cell_type": "code",
   "execution_count": 8,
   "id": "5d21c7e0",
   "metadata": {},
   "outputs": [
    {
     "data": {
      "text/plain": [
       "'GGTCAGAAAAAGCCCTCTCCATGTCTACTCACGATACATCCCTGAAAACCACTGAGGAAGTGGCTTTTCAGATCATCTTGCTTTGCCAGTTTGGGGTTGGGACTTTTGCCAATGTATTTCTCTTTGTCTATAATTTCTCTCCAATCTCGACTGGTTCTAAACAGAGGCCCAGACAAGTGATTTTAAGACACATGGCTGTGGCCAATGCCTTAACTCTCTTCCTCACTATATTTCCAAACAACATGATGACTTTTGCTCCAATTATTCCTCAAACTGACCTCAAATGTAAATTAGAATTCTTCACTCGCCTCGTGGCAAGAAGCACAAACTTGTGTTCAACTTGTGTTCTGAGTATCCATCAGTTTGTCACACTTGTTCCTGTTAATTCAGGTAAAGGAATACTCAGAGCAAGTGTCACAAACATGGCAAGTTATTCTTGTTACAGTTGTTGGTTCTTCAGTGTCTTAAATAACATCTACATTCCAATTAAGGTCACTGGTCCACAGTTAACAGACAATAACAATAACTCTAAAAGCAAGTTGTTCTGTTCCACTTCTGATTTCAGTGTAGGCATTGTCTTCTTGAGGTTTGCCCATGATGCCACATTCATGAGCATCATGGTCTGGACCAGTGTCTCCATGGTACTTCTCCTCCATAGACATTGTCAGAGAATGCAGTACATATTCACTCTCAATCAGGACCCCAGGGGCCAAGCAGAGACCACAGCAACCCATACTATCCTGATGCTGGTAGTCACATTTGTTGGCTTTTATCTTCTAAGTCTTATTTGTATCATCTTTTACACCTATTTTATATATTCTCATCATTCCCTGAGGCATTGCAATGACATTTTGGTTTCGGGTTTCCCTACAATTTCTCCTTTACTGTTGACCTTCAGAGACCCTAAGGGTCCTTGTTCTGTGTTCTTCAACTGTTGAAAGCCAGAGTCACTAAAAATGCCAAACACAGAAGACAGCTTTGCTAATACCATTAAATACTTTATTCCATAAATATGTTTTTAAAAGCTTGTATGAACAAGGTATGGTGCTCACTGCTATACTTATAAAAGAGTAAGGTTATAATCACTTGTTGATATGAAAAGATTTCTGGTTGGAATCTGATTGAAACAGTGAGTTATTCACCACCCTCCATTCTCT'"
      ]
     },
     "execution_count": 8,
     "metadata": {},
     "output_type": "execute_result"
    }
   ],
   "source": [
    "seq"
   ]
  },
  {
   "cell_type": "markdown",
   "id": "b59e1902",
   "metadata": {},
   "source": [
    "We will run an extra step to remove characters which may be hiding in a string"
   ]
  },
  {
   "cell_type": "code",
   "execution_count": 9,
   "id": "61463a96",
   "metadata": {},
   "outputs": [],
   "source": [
    "seq = seq.replace('\\r', '')"
   ]
  },
  {
   "cell_type": "code",
   "execution_count": 10,
   "id": "1f177400",
   "metadata": {},
   "outputs": [
    {
     "data": {
      "text/plain": [
       "'GGTCAGAAAAAGCCCTCTCCATGTCTACTCACGATACATCCCTGAAAACCACTGAGGAAGTGGCTTTTCAGATCATCTTGCTTTGCCAGTTTGGGGTTGGGACTTTTGCCAATGTATTTCTCTTTGTCTATAATTTCTCTCCAATCTCGACTGGTTCTAAACAGAGGCCCAGACAAGTGATTTTAAGACACATGGCTGTGGCCAATGCCTTAACTCTCTTCCTCACTATATTTCCAAACAACATGATGACTTTTGCTCCAATTATTCCTCAAACTGACCTCAAATGTAAATTAGAATTCTTCACTCGCCTCGTGGCAAGAAGCACAAACTTGTGTTCAACTTGTGTTCTGAGTATCCATCAGTTTGTCACACTTGTTCCTGTTAATTCAGGTAAAGGAATACTCAGAGCAAGTGTCACAAACATGGCAAGTTATTCTTGTTACAGTTGTTGGTTCTTCAGTGTCTTAAATAACATCTACATTCCAATTAAGGTCACTGGTCCACAGTTAACAGACAATAACAATAACTCTAAAAGCAAGTTGTTCTGTTCCACTTCTGATTTCAGTGTAGGCATTGTCTTCTTGAGGTTTGCCCATGATGCCACATTCATGAGCATCATGGTCTGGACCAGTGTCTCCATGGTACTTCTCCTCCATAGACATTGTCAGAGAATGCAGTACATATTCACTCTCAATCAGGACCCCAGGGGCCAAGCAGAGACCACAGCAACCCATACTATCCTGATGCTGGTAGTCACATTTGTTGGCTTTTATCTTCTAAGTCTTATTTGTATCATCTTTTACACCTATTTTATATATTCTCATCATTCCCTGAGGCATTGCAATGACATTTTGGTTTCGGGTTTCCCTACAATTTCTCCTTTACTGTTGACCTTCAGAGACCCTAAGGGTCCTTGTTCTGTGTTCTTCAACTGTTGAAAGCCAGAGTCACTAAAAATGCCAAACACAGAAGACAGCTTTGCTAATACCATTAAATACTTTATTCCATAAATATGTTTTTAAAAGCTTGTATGAACAAGGTATGGTGCTCACTGCTATACTTATAAAAGAGTAAGGTTATAATCACTTGTTGATATGAAAAGATTTCTGGTTGGAATCTGATTGAAACAGTGAGTTATTCACCACCCTCCATTCTCT'"
      ]
     },
     "execution_count": 10,
     "metadata": {},
     "output_type": "execute_result"
    }
   ],
   "source": [
    "seq"
   ]
  },
  {
   "cell_type": "code",
   "execution_count": 12,
   "id": "51e9e897",
   "metadata": {},
   "outputs": [],
   "source": [
    "table = {\n",
    "'ATA':'I', 'ATC':'I', 'ATT':'I', 'ATG':'M',\n",
    "'ACA':'T', 'ACC':'T', 'ACG':'T', 'ACT':'T',\n",
    "'AAC':'N', 'AAT':'N', 'AAA':'K', 'AAG':'K',\n",
    "'AGC':'S', 'AGT':'S', 'AGA':'R', 'AGG':'R',\n",
    "'CTA':'L', 'CTC':'L', 'CTG':'L', 'CTT':'L',\n",
    "'CCA':'P', 'CCC':'P', 'CCG':'P', 'CCT':'P',\n",
    "'CAC':'H', 'CAT':'H', 'CAA':'Q', 'CAG':'Q',\n",
    "'CGA':'R', 'CGC':'R', 'CGG':'R', 'CGT':'R',\n",
    "'GTA':'V', 'GTC':'V', 'GTG':'V', 'GTT':'V',\n",
    "'GCA':'A', 'GCC':'A', 'GCG':'A', 'GCT':'A',\n",
    "'GAC':'D', 'GAT':'D', 'GAA':'E', 'GAG':'E',\n",
    "'GGA':'G', 'GGC':'G', 'GGG':'G', 'GGT':'G',\n",
    "'TCA':'S', 'TCC':'S', 'TCG':'S', 'TCT':'S',\n",
    "'TTC':'F', 'TTT':'F', 'TTA':'L', 'TTG':'L',\n",
    "'TAC':'Y', 'TAT':'Y', 'TAA':'_', 'TAG':'_',\n",
    "'TGC':'C', 'TGT':'C', 'TGA':'_', 'TGG':'W',\n",
    "}"
   ]
  },
  {
   "cell_type": "markdown",
   "id": "d3fca79d",
   "metadata": {},
   "source": [
    " Lets try looking up to the key that corresponds to CAA. "
   ]
  },
  {
   "cell_type": "code",
   "execution_count": 14,
   "id": "b0da922d",
   "metadata": {},
   "outputs": [
    {
     "data": {
      "text/plain": [
       "'Q'"
      ]
     },
     "execution_count": 14,
     "metadata": {},
     "output_type": "execute_result"
    }
   ],
   "source": [
    "table['CAA']"
   ]
  },
  {
   "cell_type": "code",
   "execution_count": 15,
   "id": "c0fb3ca4",
   "metadata": {},
   "outputs": [
    {
     "data": {
      "text/plain": [
       "'P'"
      ]
     },
     "execution_count": 15,
     "metadata": {},
     "output_type": "execute_result"
    }
   ],
   "source": [
    "table['CCT']"
   ]
  },
  {
   "cell_type": "markdown",
   "id": "fdf8d933",
   "metadata": {},
   "source": [
    "To Check that the sequence lenght is divisible by 3\n",
    "   * Loop over the sequence\n",
    "   * Extract a single codon\n",
    "   * Look up the codon and store the result"
   ]
  },
  {
   "cell_type": "code",
   "execution_count": 17,
   "id": "736e7117",
   "metadata": {},
   "outputs": [
    {
     "data": {
      "text/plain": [
       "2.3333333333333335"
      ]
     },
     "execution_count": 17,
     "metadata": {},
     "output_type": "execute_result"
    }
   ],
   "source": [
    "#module example, to check if the sequence lenght is divisible by 3\n",
    "7/3"
   ]
  },
  {
   "cell_type": "code",
   "execution_count": 18,
   "id": "f8d3b22c",
   "metadata": {},
   "outputs": [
    {
     "data": {
      "text/plain": [
       "2.0"
      ]
     },
     "execution_count": 18,
     "metadata": {},
     "output_type": "execute_result"
    }
   ],
   "source": [
    "6/3"
   ]
  },
  {
   "cell_type": "code",
   "execution_count": 19,
   "id": "a88606c7",
   "metadata": {},
   "outputs": [
    {
     "data": {
      "text/plain": [
       "1"
      ]
     },
     "execution_count": 19,
     "metadata": {},
     "output_type": "execute_result"
    }
   ],
   "source": [
    "7%3"
   ]
  },
  {
   "cell_type": "code",
   "execution_count": 20,
   "id": "41ab322e",
   "metadata": {},
   "outputs": [
    {
     "data": {
      "text/plain": [
       "0"
      ]
     },
     "execution_count": 20,
     "metadata": {},
     "output_type": "execute_result"
    }
   ],
   "source": [
    "6%3"
   ]
  },
  {
   "cell_type": "code",
   "execution_count": 21,
   "id": "335031f6",
   "metadata": {},
   "outputs": [
    {
     "data": {
      "text/plain": [
       "1157"
      ]
     },
     "execution_count": 21,
     "metadata": {},
     "output_type": "execute_result"
    }
   ],
   "source": [
    "len(seq)"
   ]
  },
  {
   "cell_type": "code",
   "execution_count": 22,
   "id": "94b800f5",
   "metadata": {},
   "outputs": [
    {
     "data": {
      "text/plain": [
       "2"
      ]
     },
     "execution_count": 22,
     "metadata": {},
     "output_type": "execute_result"
    }
   ],
   "source": [
    "len(seq)%3"
   ]
  },
  {
   "cell_type": "code",
   "execution_count": 23,
   "id": "1ad33ae6",
   "metadata": {},
   "outputs": [
    {
     "name": "stdout",
     "output_type": "stream",
     "text": [
      "G\n",
      "G\n",
      "T\n",
      "C\n",
      "A\n",
      "G\n",
      "A\n",
      "A\n",
      "A\n",
      "A\n",
      "A\n",
      "G\n",
      "C\n",
      "C\n",
      "C\n",
      "T\n",
      "C\n",
      "T\n",
      "C\n",
      "C\n",
      "A\n",
      "T\n",
      "G\n",
      "T\n",
      "C\n",
      "T\n",
      "A\n",
      "C\n",
      "T\n",
      "C\n",
      "A\n",
      "C\n",
      "G\n",
      "A\n",
      "T\n",
      "A\n",
      "C\n",
      "A\n",
      "T\n",
      "C\n",
      "C\n",
      "C\n",
      "T\n",
      "G\n",
      "A\n",
      "A\n",
      "A\n",
      "A\n",
      "C\n",
      "C\n",
      "A\n",
      "C\n",
      "T\n",
      "G\n",
      "A\n",
      "G\n",
      "G\n",
      "A\n",
      "A\n",
      "G\n",
      "T\n",
      "G\n",
      "G\n",
      "C\n",
      "T\n",
      "T\n",
      "T\n",
      "T\n",
      "C\n",
      "A\n",
      "G\n",
      "A\n",
      "T\n",
      "C\n",
      "A\n",
      "T\n",
      "C\n",
      "T\n",
      "T\n",
      "G\n",
      "C\n",
      "T\n",
      "T\n",
      "T\n",
      "G\n",
      "C\n",
      "C\n",
      "A\n",
      "G\n",
      "T\n",
      "T\n",
      "T\n",
      "G\n",
      "G\n",
      "G\n",
      "G\n",
      "T\n",
      "T\n",
      "G\n",
      "G\n",
      "G\n",
      "A\n",
      "C\n",
      "T\n",
      "T\n",
      "T\n",
      "T\n",
      "G\n",
      "C\n",
      "C\n",
      "A\n",
      "A\n",
      "T\n",
      "G\n",
      "T\n",
      "A\n",
      "T\n",
      "T\n",
      "T\n",
      "C\n",
      "T\n",
      "C\n",
      "T\n",
      "T\n",
      "T\n",
      "G\n",
      "T\n",
      "C\n",
      "T\n",
      "A\n",
      "T\n",
      "A\n",
      "A\n",
      "T\n",
      "T\n",
      "T\n",
      "C\n",
      "T\n",
      "C\n",
      "T\n",
      "C\n",
      "C\n",
      "A\n",
      "A\n",
      "T\n",
      "C\n",
      "T\n",
      "C\n",
      "G\n",
      "A\n",
      "C\n",
      "T\n",
      "G\n",
      "G\n",
      "T\n",
      "T\n",
      "C\n",
      "T\n",
      "A\n",
      "A\n",
      "A\n",
      "C\n",
      "A\n",
      "G\n",
      "A\n",
      "G\n",
      "G\n",
      "C\n",
      "C\n",
      "C\n",
      "A\n",
      "G\n",
      "A\n",
      "C\n",
      "A\n",
      "A\n",
      "G\n",
      "T\n",
      "G\n",
      "A\n",
      "T\n",
      "T\n",
      "T\n",
      "T\n",
      "A\n",
      "A\n",
      "G\n",
      "A\n",
      "C\n",
      "A\n",
      "C\n",
      "A\n",
      "T\n",
      "G\n",
      "G\n",
      "C\n",
      "T\n",
      "G\n",
      "T\n",
      "G\n",
      "G\n",
      "C\n",
      "C\n",
      "A\n",
      "A\n",
      "T\n",
      "G\n",
      "C\n",
      "C\n",
      "T\n",
      "T\n",
      "A\n",
      "A\n",
      "C\n",
      "T\n",
      "C\n",
      "T\n",
      "C\n",
      "T\n",
      "T\n",
      "C\n",
      "C\n",
      "T\n",
      "C\n",
      "A\n",
      "C\n",
      "T\n",
      "A\n",
      "T\n",
      "A\n",
      "T\n",
      "T\n",
      "T\n",
      "C\n",
      "C\n",
      "A\n",
      "A\n",
      "A\n",
      "C\n",
      "A\n",
      "A\n",
      "C\n",
      "A\n",
      "T\n",
      "G\n",
      "A\n",
      "T\n",
      "G\n",
      "A\n",
      "C\n",
      "T\n",
      "T\n",
      "T\n",
      "T\n",
      "G\n",
      "C\n",
      "T\n",
      "C\n",
      "C\n",
      "A\n",
      "A\n",
      "T\n",
      "T\n",
      "A\n",
      "T\n",
      "T\n",
      "C\n",
      "C\n",
      "T\n",
      "C\n",
      "A\n",
      "A\n",
      "A\n",
      "C\n",
      "T\n",
      "G\n",
      "A\n",
      "C\n",
      "C\n",
      "T\n",
      "C\n",
      "A\n",
      "A\n",
      "A\n",
      "T\n",
      "G\n",
      "T\n",
      "A\n",
      "A\n",
      "A\n",
      "T\n",
      "T\n",
      "A\n",
      "G\n",
      "A\n",
      "A\n",
      "T\n",
      "T\n",
      "C\n",
      "T\n",
      "T\n",
      "C\n",
      "A\n",
      "C\n",
      "T\n",
      "C\n",
      "G\n",
      "C\n",
      "C\n",
      "T\n",
      "C\n",
      "G\n",
      "T\n",
      "G\n",
      "G\n",
      "C\n",
      "A\n",
      "A\n",
      "G\n",
      "A\n",
      "A\n",
      "G\n",
      "C\n",
      "A\n",
      "C\n",
      "A\n",
      "A\n",
      "A\n",
      "C\n",
      "T\n",
      "T\n",
      "G\n",
      "T\n",
      "G\n",
      "T\n",
      "T\n",
      "C\n",
      "A\n",
      "A\n",
      "C\n",
      "T\n",
      "T\n",
      "G\n",
      "T\n",
      "G\n",
      "T\n",
      "T\n",
      "C\n",
      "T\n",
      "G\n",
      "A\n",
      "G\n",
      "T\n",
      "A\n",
      "T\n",
      "C\n",
      "C\n",
      "A\n",
      "T\n",
      "C\n",
      "A\n",
      "G\n",
      "T\n",
      "T\n",
      "T\n",
      "G\n",
      "T\n",
      "C\n",
      "A\n",
      "C\n",
      "A\n",
      "C\n",
      "T\n",
      "T\n",
      "G\n",
      "T\n",
      "T\n",
      "C\n",
      "C\n",
      "T\n",
      "G\n",
      "T\n",
      "T\n",
      "A\n",
      "A\n",
      "T\n",
      "T\n",
      "C\n",
      "A\n",
      "G\n",
      "G\n",
      "T\n",
      "A\n",
      "A\n",
      "A\n",
      "G\n",
      "G\n",
      "A\n",
      "A\n",
      "T\n",
      "A\n",
      "C\n",
      "T\n",
      "C\n",
      "A\n",
      "G\n",
      "A\n",
      "G\n",
      "C\n",
      "A\n",
      "A\n",
      "G\n",
      "T\n",
      "G\n",
      "T\n",
      "C\n",
      "A\n",
      "C\n",
      "A\n",
      "A\n",
      "A\n",
      "C\n",
      "A\n",
      "T\n",
      "G\n",
      "G\n",
      "C\n",
      "A\n",
      "A\n",
      "G\n",
      "T\n",
      "T\n",
      "A\n",
      "T\n",
      "T\n",
      "C\n",
      "T\n",
      "T\n",
      "G\n",
      "T\n",
      "T\n",
      "A\n",
      "C\n",
      "A\n",
      "G\n",
      "T\n",
      "T\n",
      "G\n",
      "T\n",
      "T\n",
      "G\n",
      "G\n",
      "T\n",
      "T\n",
      "C\n",
      "T\n",
      "T\n",
      "C\n",
      "A\n",
      "G\n",
      "T\n",
      "G\n",
      "T\n",
      "C\n",
      "T\n",
      "T\n",
      "A\n",
      "A\n",
      "A\n",
      "T\n",
      "A\n",
      "A\n",
      "C\n",
      "A\n",
      "T\n",
      "C\n",
      "T\n",
      "A\n",
      "C\n",
      "A\n",
      "T\n",
      "T\n",
      "C\n",
      "C\n",
      "A\n",
      "A\n",
      "T\n",
      "T\n",
      "A\n",
      "A\n",
      "G\n",
      "G\n",
      "T\n",
      "C\n",
      "A\n",
      "C\n",
      "T\n",
      "G\n",
      "G\n",
      "T\n",
      "C\n",
      "C\n",
      "A\n",
      "C\n",
      "A\n",
      "G\n",
      "T\n",
      "T\n",
      "A\n",
      "A\n",
      "C\n",
      "A\n",
      "G\n",
      "A\n",
      "C\n",
      "A\n",
      "A\n",
      "T\n",
      "A\n",
      "A\n",
      "C\n",
      "A\n",
      "A\n",
      "T\n",
      "A\n",
      "A\n",
      "C\n",
      "T\n",
      "C\n",
      "T\n",
      "A\n",
      "A\n",
      "A\n",
      "A\n",
      "G\n",
      "C\n",
      "A\n",
      "A\n",
      "G\n",
      "T\n",
      "T\n",
      "G\n",
      "T\n",
      "T\n",
      "C\n",
      "T\n",
      "G\n",
      "T\n",
      "T\n",
      "C\n",
      "C\n",
      "A\n",
      "C\n",
      "T\n",
      "T\n",
      "C\n",
      "T\n",
      "G\n",
      "A\n",
      "T\n",
      "T\n",
      "T\n",
      "C\n",
      "A\n",
      "G\n",
      "T\n",
      "G\n",
      "T\n",
      "A\n",
      "G\n",
      "G\n",
      "C\n",
      "A\n",
      "T\n",
      "T\n",
      "G\n",
      "T\n",
      "C\n",
      "T\n",
      "T\n",
      "C\n",
      "T\n",
      "T\n",
      "G\n",
      "A\n",
      "G\n",
      "G\n",
      "T\n",
      "T\n",
      "T\n",
      "G\n",
      "C\n",
      "C\n",
      "C\n",
      "A\n",
      "T\n",
      "G\n",
      "A\n",
      "T\n",
      "G\n",
      "C\n",
      "C\n",
      "A\n",
      "C\n",
      "A\n",
      "T\n",
      "T\n",
      "C\n",
      "A\n",
      "T\n",
      "G\n",
      "A\n",
      "G\n",
      "C\n",
      "A\n",
      "T\n",
      "C\n",
      "A\n",
      "T\n",
      "G\n",
      "G\n",
      "T\n",
      "C\n",
      "T\n",
      "G\n",
      "G\n",
      "A\n",
      "C\n",
      "C\n",
      "A\n",
      "G\n",
      "T\n",
      "G\n",
      "T\n",
      "C\n",
      "T\n",
      "C\n",
      "C\n",
      "A\n",
      "T\n",
      "G\n",
      "G\n",
      "T\n",
      "A\n",
      "C\n",
      "T\n",
      "T\n",
      "C\n",
      "T\n",
      "C\n",
      "C\n",
      "T\n",
      "C\n",
      "C\n",
      "A\n",
      "T\n",
      "A\n",
      "G\n",
      "A\n",
      "C\n",
      "A\n",
      "T\n",
      "T\n",
      "G\n",
      "T\n",
      "C\n",
      "A\n",
      "G\n",
      "A\n",
      "G\n",
      "A\n",
      "A\n",
      "T\n",
      "G\n",
      "C\n",
      "A\n",
      "G\n",
      "T\n",
      "A\n",
      "C\n",
      "A\n",
      "T\n",
      "A\n",
      "T\n",
      "T\n",
      "C\n",
      "A\n",
      "C\n",
      "T\n",
      "C\n",
      "T\n",
      "C\n",
      "A\n",
      "A\n",
      "T\n",
      "C\n",
      "A\n",
      "G\n",
      "G\n",
      "A\n",
      "C\n",
      "C\n",
      "C\n",
      "C\n",
      "A\n",
      "G\n",
      "G\n",
      "G\n",
      "G\n",
      "C\n",
      "C\n",
      "A\n",
      "A\n",
      "G\n",
      "C\n",
      "A\n",
      "G\n",
      "A\n",
      "G\n",
      "A\n",
      "C\n",
      "C\n",
      "A\n",
      "C\n",
      "A\n",
      "G\n",
      "C\n",
      "A\n",
      "A\n",
      "C\n",
      "C\n",
      "C\n",
      "A\n",
      "T\n",
      "A\n",
      "C\n",
      "T\n",
      "A\n",
      "T\n",
      "C\n",
      "C\n",
      "T\n",
      "G\n",
      "A\n",
      "T\n",
      "G\n",
      "C\n",
      "T\n",
      "G\n",
      "G\n",
      "T\n",
      "A\n",
      "G\n",
      "T\n",
      "C\n",
      "A\n",
      "C\n",
      "A\n",
      "T\n",
      "T\n",
      "T\n",
      "G\n",
      "T\n",
      "T\n",
      "G\n",
      "G\n",
      "C\n",
      "T\n",
      "T\n",
      "T\n",
      "T\n",
      "A\n",
      "T\n",
      "C\n",
      "T\n",
      "T\n",
      "C\n",
      "T\n",
      "A\n",
      "A\n",
      "G\n",
      "T\n",
      "C\n",
      "T\n",
      "T\n",
      "A\n",
      "T\n",
      "T\n",
      "T\n",
      "G\n",
      "T\n",
      "A\n",
      "T\n",
      "C\n",
      "A\n",
      "T\n",
      "C\n",
      "T\n",
      "T\n",
      "T\n",
      "T\n",
      "A\n",
      "C\n",
      "A\n",
      "C\n",
      "C\n",
      "T\n",
      "A\n",
      "T\n",
      "T\n",
      "T\n",
      "T\n",
      "A\n",
      "T\n",
      "A\n",
      "T\n",
      "A\n",
      "T\n",
      "T\n",
      "C\n",
      "T\n",
      "C\n",
      "A\n",
      "T\n",
      "C\n",
      "A\n",
      "T\n",
      "T\n",
      "C\n",
      "C\n",
      "C\n",
      "T\n",
      "G\n",
      "A\n",
      "G\n",
      "G\n",
      "C\n",
      "A\n",
      "T\n",
      "T\n",
      "G\n",
      "C\n",
      "A\n",
      "A\n",
      "T\n",
      "G\n",
      "A\n",
      "C\n",
      "A\n",
      "T\n",
      "T\n",
      "T\n",
      "T\n",
      "G\n",
      "G\n",
      "T\n",
      "T\n",
      "T\n",
      "C\n",
      "G\n",
      "G\n",
      "G\n",
      "T\n",
      "T\n",
      "T\n",
      "C\n",
      "C\n",
      "C\n",
      "T\n",
      "A\n",
      "C\n",
      "A\n",
      "A\n",
      "T\n",
      "T\n",
      "T\n",
      "C\n",
      "T\n",
      "C\n",
      "C\n",
      "T\n",
      "T\n",
      "T\n",
      "A\n",
      "C\n",
      "T\n",
      "G\n",
      "T\n",
      "T\n",
      "G\n",
      "A\n",
      "C\n",
      "C\n",
      "T\n",
      "T\n",
      "C\n",
      "A\n",
      "G\n",
      "A\n",
      "G\n",
      "A\n",
      "C\n",
      "C\n",
      "C\n",
      "T\n",
      "A\n",
      "A\n",
      "G\n",
      "G\n",
      "G\n",
      "T\n",
      "C\n",
      "C\n",
      "T\n",
      "T\n",
      "G\n",
      "T\n",
      "T\n",
      "C\n",
      "T\n",
      "G\n",
      "T\n",
      "G\n",
      "T\n",
      "T\n",
      "C\n",
      "T\n",
      "T\n",
      "C\n",
      "A\n",
      "A\n",
      "C\n",
      "T\n",
      "G\n",
      "T\n",
      "T\n",
      "G\n",
      "A\n",
      "A\n",
      "A\n",
      "G\n",
      "C\n",
      "C\n",
      "A\n",
      "G\n",
      "A\n",
      "G\n",
      "T\n",
      "C\n",
      "A\n",
      "C\n",
      "T\n",
      "A\n",
      "A\n",
      "A\n",
      "A\n",
      "A\n",
      "T\n",
      "G\n",
      "C\n",
      "C\n",
      "A\n",
      "A\n",
      "A\n",
      "C\n",
      "A\n",
      "C\n",
      "A\n",
      "G\n",
      "A\n",
      "A\n",
      "G\n",
      "A\n",
      "C\n",
      "A\n",
      "G\n",
      "C\n",
      "T\n",
      "T\n",
      "T\n",
      "G\n",
      "C\n",
      "T\n",
      "A\n",
      "A\n",
      "T\n",
      "A\n",
      "C\n",
      "C\n",
      "A\n",
      "T\n",
      "T\n",
      "A\n",
      "A\n",
      "A\n",
      "T\n",
      "A\n",
      "C\n",
      "T\n",
      "T\n",
      "T\n",
      "A\n",
      "T\n",
      "T\n",
      "C\n",
      "C\n",
      "A\n",
      "T\n",
      "A\n",
      "A\n",
      "A\n",
      "T\n",
      "A\n",
      "T\n",
      "G\n",
      "T\n",
      "T\n",
      "T\n",
      "T\n",
      "T\n",
      "A\n",
      "A\n",
      "A\n",
      "A\n",
      "G\n",
      "C\n",
      "T\n",
      "T\n",
      "G\n",
      "T\n",
      "A\n",
      "T\n",
      "G\n",
      "A\n",
      "A\n",
      "C\n",
      "A\n",
      "A\n",
      "G\n",
      "G\n",
      "T\n",
      "A\n",
      "T\n",
      "G\n",
      "G\n",
      "T\n",
      "G\n",
      "C\n",
      "T\n",
      "C\n",
      "A\n",
      "C\n",
      "T\n",
      "G\n",
      "C\n",
      "T\n",
      "A\n",
      "T\n",
      "A\n",
      "C\n",
      "T\n",
      "T\n",
      "A\n",
      "T\n",
      "A\n",
      "A\n",
      "A\n",
      "A\n",
      "G\n",
      "A\n",
      "G\n",
      "T\n",
      "A\n",
      "A\n",
      "G\n",
      "G\n",
      "T\n",
      "T\n",
      "A\n",
      "T\n",
      "A\n",
      "A\n",
      "T\n",
      "C\n",
      "A\n",
      "C\n",
      "T\n",
      "T\n",
      "G\n",
      "T\n",
      "T\n",
      "G\n",
      "A\n",
      "T\n",
      "A\n",
      "T\n",
      "G\n",
      "A\n",
      "A\n",
      "A\n",
      "A\n",
      "G\n",
      "A\n",
      "T\n",
      "T\n",
      "T\n",
      "C\n",
      "T\n",
      "G\n",
      "G\n",
      "T\n",
      "T\n",
      "G\n",
      "G\n",
      "A\n",
      "A\n",
      "T\n",
      "C\n",
      "T\n",
      "G\n",
      "A\n",
      "T\n",
      "T\n",
      "G\n",
      "A\n",
      "A\n",
      "A\n",
      "C\n",
      "A\n",
      "G\n",
      "T\n",
      "G\n",
      "A\n",
      "G\n",
      "T\n",
      "T\n",
      "A\n",
      "T\n",
      "T\n",
      "C\n",
      "A\n",
      "C\n",
      "C\n",
      "A\n",
      "C\n",
      "C\n",
      "C\n",
      "T\n",
      "C\n",
      "C\n",
      "A\n",
      "T\n",
      "T\n",
      "C\n",
      "T\n",
      "C\n",
      "T\n"
     ]
    }
   ],
   "source": [
    "#Check for s in seq\n",
    "for s in seq:\n",
    "    print(s)"
   ]
  },
  {
   "cell_type": "markdown",
   "id": "1d71d2b5",
   "metadata": {},
   "source": [
    "Lets try to slice our sequence"
   ]
  },
  {
   "cell_type": "code",
   "execution_count": 24,
   "id": "5e7c303b",
   "metadata": {},
   "outputs": [
    {
     "data": {
      "text/plain": [
       "'GGT'"
      ]
     },
     "execution_count": 24,
     "metadata": {},
     "output_type": "execute_result"
    }
   ],
   "source": [
    "seq[0:3]"
   ]
  },
  {
   "cell_type": "code",
   "execution_count": 25,
   "id": "91dfbee9",
   "metadata": {},
   "outputs": [
    {
     "data": {
      "text/plain": [
       "'AAA'"
      ]
     },
     "execution_count": 25,
     "metadata": {},
     "output_type": "execute_result"
    }
   ],
   "source": [
    "seq[6:9]"
   ]
  },
  {
   "cell_type": "code",
   "execution_count": 26,
   "id": "ff711290",
   "metadata": {},
   "outputs": [
    {
     "data": {
      "text/plain": [
       "'CAG'"
      ]
     },
     "execution_count": 26,
     "metadata": {},
     "output_type": "execute_result"
    }
   ],
   "source": [
    "seq[3:6]"
   ]
  },
  {
   "cell_type": "code",
   "execution_count": 27,
   "id": "2a7c9199",
   "metadata": {},
   "outputs": [
    {
     "data": {
      "text/plain": [
       "range(0, 11, 3)"
      ]
     },
     "execution_count": 27,
     "metadata": {},
     "output_type": "execute_result"
    }
   ],
   "source": [
    "range(0,11,3)"
   ]
  },
  {
   "cell_type": "code",
   "execution_count": 28,
   "id": "866d9d2d",
   "metadata": {},
   "outputs": [
    {
     "data": {
      "text/plain": [
       "[0, 3, 6, 9]"
      ]
     },
     "execution_count": 28,
     "metadata": {},
     "output_type": "execute_result"
    }
   ],
   "source": [
    "list(range(0,11,3))"
   ]
  },
  {
   "cell_type": "markdown",
   "id": "8220b236",
   "metadata": {},
   "source": [
    "Creating an empty string protein"
   ]
  },
  {
   "cell_type": "code",
   "execution_count": 29,
   "id": "fe4cc6cd",
   "metadata": {},
   "outputs": [],
   "source": [
    "protein = \"\"\n",
    "\n",
    "\n",
    "if len(seq) % 3 == 0:\n",
    "    protein = ''\n",
    "    for i in range(0, len(seq), 3):\n",
    "        codon = seq[i:i+3]\n",
    "        protein += table[codon]\n",
    "\n"
   ]
  },
  {
   "cell_type": "markdown",
   "id": "3c8bae81",
   "metadata": {},
   "source": [
    "Creating a translate function"
   ]
  },
  {
   "cell_type": "code",
   "execution_count": 31,
   "id": "0ea33179",
   "metadata": {},
   "outputs": [],
   "source": [
    "def translate(seq):\n",
    "    ''' Translate a string containing a nucleotide sequence\n",
    "    into a string containing the correspoding sequence of \n",
    "    amino acids. Nucleotides are translated in triplets \n",
    "    using the table dictionary; \n",
    "    each amino acid is encoded with a sum of length 1. '''\n",
    "    \n",
    "    table = {\n",
    "    'ATA':'I', 'ATC':'I', 'ATT':'I', 'ATG':'M',\n",
    "    'ACA':'T', 'ACC':'T', 'ACG':'T', 'ACT':'T',\n",
    "    'AAC':'N', 'AAT':'N', 'AAA':'K', 'AAG':'K',\n",
    "    'AGC':'S', 'AGT':'S', 'AGA':'R', 'AGG':'R',\n",
    "    'CTA':'L', 'CTC':'L', 'CTG':'L', 'CTT':'L',\n",
    "    'CCA':'P', 'CCC':'P', 'CCG':'P', 'CCT':'P',\n",
    "    'CAC':'H', 'CAT':'H', 'CAA':'Q', 'CAG':'Q',\n",
    "    'CGA':'R', 'CGC':'R', 'CGG':'R', 'CGT':'R',\n",
    "    'GTA':'V', 'GTC':'V', 'GTG':'V', 'GTT':'V',\n",
    "    'GCA':'A', 'GCC':'A', 'GCG':'A', 'GCT':'A',\n",
    "    'GAC':'D', 'GAT':'D', 'GAA':'E', 'GAG':'E',\n",
    "    'GGA':'G', 'GGC':'G', 'GGG':'G', 'GGT':'G',\n",
    "    'TCA':'S', 'TCC':'S', 'TCG':'S', 'TCT':'S',\n",
    "    'TTC':'F', 'TTT':'F', 'TTA':'L', 'TTG':'L',\n",
    "    'TAC':'Y', 'TAT':'Y', 'TAA':'_', 'TAG':'_',\n",
    "    'TGC':'C', 'TGT':'C', 'TGA':'_', 'TGG':'W',\n",
    "}\n",
    "#check that the sequence lenght is divisible by 3\n",
    "    if len(seq) % 3 == 0:\n",
    "        protein = ''\n",
    "        # loop over the sequence\n",
    "        for i in range(0, len(seq), 3):\n",
    "            #extract a single codon\n",
    "            codon = seq[i:i+3]\n",
    "            #look up the codon and store the result\n",
    "            protein += table[codon]\n",
    "        return protein"
   ]
  },
  {
   "cell_type": "code",
   "execution_count": 32,
   "id": "dd25b7fa",
   "metadata": {},
   "outputs": [
    {
     "data": {
      "text/plain": [
       "'I'"
      ]
     },
     "execution_count": 32,
     "metadata": {},
     "output_type": "execute_result"
    }
   ],
   "source": [
    "translate(\"ATA\")"
   ]
  },
  {
   "cell_type": "code",
   "execution_count": 33,
   "id": "c1368cf9",
   "metadata": {},
   "outputs": [
    {
     "data": {
      "text/plain": [
       "'K'"
      ]
     },
     "execution_count": 33,
     "metadata": {},
     "output_type": "execute_result"
    }
   ],
   "source": [
    "translate(\"AAA\")"
   ]
  },
  {
   "cell_type": "markdown",
   "id": "be5c0da1",
   "metadata": {},
   "source": [
    "I have created a docstring which can be accessed using the following function"
   ]
  },
  {
   "cell_type": "code",
   "execution_count": 35,
   "id": "d45a4944",
   "metadata": {},
   "outputs": [
    {
     "name": "stdout",
     "output_type": "stream",
     "text": [
      "Help on function translate in module __main__:\n",
      "\n",
      "translate(seq)\n",
      "    Translate a string containing a nucleotide sequence\n",
      "    into a string containing the correspoding sequence of \n",
      "    amino acids. Nucleotides are translated in triplets \n",
      "    using the table dictionary; \n",
      "    each amino acid is encoded with a sum of length 1.\n",
      "\n"
     ]
    }
   ],
   "source": [
    "help(translate)"
   ]
  },
  {
   "cell_type": "code",
   "execution_count": 43,
   "id": "69a99eb2",
   "metadata": {},
   "outputs": [
    {
     "data": {
      "text/plain": [
       "'GGTCAGAAAAAGCCCTCTCCATGTCTACTCACGATACATCCCTGAAAACCACTGAGGAAGTGGCTTTTCA\\nGATCATCTTGCTTTGCCAGTTTGGGGTTGGGACTTTTGCCAATGTATTTCTCTTTGTCTATAATTTCTCT\\nCCAATCTCGACTGGTTCTAAACAGAGGCCCAGACAAGTGATTTTAAGACACATGGCTGTGGCCAATGCCT\\nTAACTCTCTTCCTCACTATATTTCCAAACAACATGATGACTTTTGCTCCAATTATTCCTCAAACTGACCT\\nCAAATGTAAATTAGAATTCTTCACTCGCCTCGTGGCAAGAAGCACAAACTTGTGTTCAACTTGTGTTCTG\\nAGTATCCATCAGTTTGTCACACTTGTTCCTGTTAATTCAGGTAAAGGAATACTCAGAGCAAGTGTCACAA\\nACATGGCAAGTTATTCTTGTTACAGTTGTTGGTTCTTCAGTGTCTTAAATAACATCTACATTCCAATTAA\\nGGTCACTGGTCCACAGTTAACAGACAATAACAATAACTCTAAAAGCAAGTTGTTCTGTTCCACTTCTGAT\\nTTCAGTGTAGGCATTGTCTTCTTGAGGTTTGCCCATGATGCCACATTCATGAGCATCATGGTCTGGACCA\\nGTGTCTCCATGGTACTTCTCCTCCATAGACATTGTCAGAGAATGCAGTACATATTCACTCTCAATCAGGA\\nCCCCAGGGGCCAAGCAGAGACCACAGCAACCCATACTATCCTGATGCTGGTAGTCACATTTGTTGGCTTT\\nTATCTTCTAAGTCTTATTTGTATCATCTTTTACACCTATTTTATATATTCTCATCATTCCCTGAGGCATT\\nGCAATGACATTTTGGTTTCGGGTTTCCCTACAATTTCTCCTTTACTGTTGACCTTCAGAGACCCTAAGGG\\nTCCTTGTTCTGTGTTCTTCAACTGTTGAAAGCCAGAGTCACTAAAAATGCCAAACACAGAAGACAGCTTT\\nGCTAATACCATTAAATACTTTATTCCATAAATATGTTTTTAAAAGCTTGTATGAACAAGGTATGGTGCTC\\nACTGCTATACTTATAAAAGAGTAAGGTTATAATCACTTGTTGATATGAAAAGATTTCTGGTTGGAATCTG\\nATTGAAACAGTGAGTTATTCACCACCCTCCATTCTCT'"
      ]
     },
     "execution_count": 43,
     "metadata": {},
     "output_type": "execute_result"
    }
   ],
   "source": [
    "inputfile = 'dna.txt'\n",
    "with open(inputfile, 'r') as f:\n",
    "    seq = f.read()\n",
    "seq"
   ]
  },
  {
   "cell_type": "markdown",
   "id": "56953be9",
   "metadata": {},
   "source": [
    "Lets define a read sequence"
   ]
  },
  {
   "cell_type": "code",
   "execution_count": 46,
   "id": "c9d5d5d6",
   "metadata": {},
   "outputs": [],
   "source": [
    "def read_seq(inputfile):\n",
    "    '''Read and returns the input sequence\n",
    "    with special characters removed'''\n",
    "    with open (inputfile, 'r') as f:\n",
    "        seq = f.read()\n",
    "    seq = seq.replace('\\n', '')\n",
    "    seq = seq.replace('\\r', '')\n",
    "    return seq"
   ]
  },
  {
   "cell_type": "markdown",
   "id": "7a85d38c",
   "metadata": {},
   "source": [
    "Reading protein sequence"
   ]
  },
  {
   "cell_type": "code",
   "execution_count": 48,
   "id": "363a9db4",
   "metadata": {},
   "outputs": [],
   "source": [
    "prt = read_seq('protein.txt')"
   ]
  },
  {
   "cell_type": "code",
   "execution_count": 49,
   "id": "b4747001",
   "metadata": {},
   "outputs": [],
   "source": [
    "dna = read_seq('dna.txt')"
   ]
  },
  {
   "cell_type": "code",
   "execution_count": 50,
   "id": "b400c9fa",
   "metadata": {},
   "outputs": [],
   "source": [
    "translate(dna)"
   ]
  },
  {
   "cell_type": "code",
   "execution_count": null,
   "id": "fab54463",
   "metadata": {},
   "outputs": [],
   "source": [
    "translate(prt)"
   ]
  },
  {
   "cell_type": "code",
   "execution_count": 52,
   "id": "0b4fa242",
   "metadata": {},
   "outputs": [
    {
     "data": {
      "text/plain": [
       "2"
      ]
     },
     "execution_count": 52,
     "metadata": {},
     "output_type": "execute_result"
    }
   ],
   "source": [
    "len(dna)%3"
   ]
  },
  {
   "cell_type": "code",
   "execution_count": 53,
   "id": "9b0d7e44",
   "metadata": {},
   "outputs": [
    {
     "data": {
      "text/plain": [
       "2"
      ]
     },
     "execution_count": 53,
     "metadata": {},
     "output_type": "execute_result"
    }
   ],
   "source": [
    "len(dna)%3"
   ]
  },
  {
   "cell_type": "code",
   "execution_count": 54,
   "id": "b774c30d",
   "metadata": {},
   "outputs": [
    {
     "data": {
      "text/plain": [
       "'MSTHDTSLKTTEEVAFQIILLCQFGVGTFANVFLFVYNFSPISTGSKQRPRQVILRHMAVANALTLFLTIFPNNMMTFAPIIPQTDLKCKLEFFTRLVARSTNLCSTCVLSIHQFVTLVPVNSGKGILRASVTNMASYSCYSCWFFSVLNNIYIPIKVTGPQLTDNNNNSKSKLFCSTSDFSVGIVFLRFAHDATFMSIMVWTSVSMVLLLHRHCQRMQYIFTLNQDPRGQAETTATHTILMLVVTFVGFYLLSLICIIFYTYFIYSHHSLRHCNDILVSGFPTISPLLLTFRDPKGPCSVFFNC_'"
      ]
     },
     "execution_count": 54,
     "metadata": {},
     "output_type": "execute_result"
    }
   ],
   "source": [
    "translate(dna[20:938])"
   ]
  },
  {
   "cell_type": "code",
   "execution_count": 55,
   "id": "8bba27cb",
   "metadata": {},
   "outputs": [
    {
     "data": {
      "text/plain": [
       "'MSTHDTSLKTTEEVAFQIILLCQFGVGTFANVFLFVYNFSPISTGSKQRPRQVILRHMAVANALTLFLTIFPNNMMTFAPIIPQTDLKCKLEFFTRLVARSTNLCSTCVLSIHQFVTLVPVNSGKGILRASVTNMASYSCYSCWFFSVLNNIYIPIKVTGPQLTDNNNNSKSKLFCSTSDFSVGIVFLRFAHDATFMSIMVWTSVSMVLLLHRHCQRMQYIFTLNQDPRGQAETTATHTILMLVVTFVGFYLLSLICIIFYTYFIYSHHSLRHCNDILVSGFPTISPLLLTFRDPKGPCSVFFNCc'"
      ]
     },
     "execution_count": 55,
     "metadata": {},
     "output_type": "execute_result"
    }
   ],
   "source": [
    "prt"
   ]
  },
  {
   "cell_type": "code",
   "execution_count": 56,
   "id": "1a2cc31d",
   "metadata": {},
   "outputs": [
    {
     "data": {
      "text/plain": [
       "'MSTHDTSLKTTEEVAFQIILLCQFGVGTFANVFLFVYNFSPISTGSKQRPRQVILRHMAVANALTLFLTIFPNNMMTFAPIIPQTDLKCKLEFFTRLVARSTNLCSTCVLSIHQFVTLVPVNSGKGILRASVTNMASYSCYSCWFFSVLNNIYIPIKVTGPQLTDNNNNSKSKLFCSTSDFSVGIVFLRFAHDATFMSIMVWTSVSMVLLLHRHCQRMQYIFTLNQDPRGQAETTATHTILMLVVTFVGFYLLSLICIIFYTYFIYSHHSLRHCNDILVSGFPTISPLLLTFRDPKGPCSVFFNC'"
      ]
     },
     "execution_count": 56,
     "metadata": {},
     "output_type": "execute_result"
    }
   ],
   "source": [
    "translate(dna[20:935])"
   ]
  },
  {
   "cell_type": "code",
   "execution_count": 57,
   "id": "e8b11cce",
   "metadata": {},
   "outputs": [
    {
     "data": {
      "text/plain": [
       "False"
      ]
     },
     "execution_count": 57,
     "metadata": {},
     "output_type": "execute_result"
    }
   ],
   "source": [
    "prt == translate(dna[20:935])"
   ]
  },
  {
   "cell_type": "code",
   "execution_count": 58,
   "id": "3f0dba54",
   "metadata": {},
   "outputs": [
    {
     "data": {
      "text/plain": [
       "False"
      ]
     },
     "execution_count": 58,
     "metadata": {},
     "output_type": "execute_result"
    }
   ],
   "source": [
    "prt == translate(dna[20:938])[:-1]"
   ]
  },
  {
   "cell_type": "code",
   "execution_count": 59,
   "id": "bac730a9",
   "metadata": {},
   "outputs": [
    {
     "data": {
      "text/plain": [
       "'MSTHDTSLKTTEEVAFQIILLCQFGVGTFANVFLFVYNFSPISTGSKQRPRQVILRHMAVANALTLFLTIFPNNMMTFAPIIPQTDLKCKLEFFTRLVARSTNLCSTCVLSIHQFVTLVPVNSGKGILRASVTNMASYSCYSCWFFSVLNNIYIPIKVTGPQLTDNNNNSKSKLFCSTSDFSVGIVFLRFAHDATFMSIMVWTSVSMVLLLHRHCQRMQYIFTLNQDPRGQAETTATHTILMLVVTFVGFYLLSLICIIFYTYFIYSHHSLRHCNDILVSGFPTISPLLLTFRDPKGPCSVFFNC'"
      ]
     },
     "execution_count": 59,
     "metadata": {},
     "output_type": "execute_result"
    }
   ],
   "source": [
    "translate(dna[20:938])[:-1]"
   ]
  },
  {
   "cell_type": "code",
   "execution_count": 60,
   "id": "73019c4a",
   "metadata": {
    "scrolled": true
   },
   "outputs": [
    {
     "name": "stdout",
     "output_type": "stream",
     "text": [
      "None\n"
     ]
    }
   ],
   "source": [
    "example = translate(dna[20:938][:-1])\n",
    "print(example)"
   ]
  },
  {
   "cell_type": "markdown",
   "id": "b9589fc9",
   "metadata": {},
   "source": [
    "Proving our translated protein and the protein sequence I have downloaded are identical."
   ]
  },
  {
   "cell_type": "code",
   "execution_count": 61,
   "id": "d4503737",
   "metadata": {},
   "outputs": [
    {
     "data": {
      "text/plain": [
       "True"
      ]
     },
     "execution_count": 61,
     "metadata": {},
     "output_type": "execute_result"
    }
   ],
   "source": [
    "translate(dna[20:938])[:-1] == translate(dna[20:935])"
   ]
  },
  {
   "cell_type": "code",
   "execution_count": null,
   "id": "8060b3e2",
   "metadata": {},
   "outputs": [],
   "source": []
  }
 ],
 "metadata": {
  "kernelspec": {
   "display_name": "Python 3",
   "language": "python",
   "name": "python3"
  },
  "language_info": {
   "codemirror_mode": {
    "name": "ipython",
    "version": 3
   },
   "file_extension": ".py",
   "mimetype": "text/x-python",
   "name": "python",
   "nbconvert_exporter": "python",
   "pygments_lexer": "ipython3",
   "version": "3.8.10"
  }
 },
 "nbformat": 4,
 "nbformat_minor": 5
}
